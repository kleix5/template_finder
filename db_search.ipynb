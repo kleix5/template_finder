{
 "cells": [
  {
   "cell_type": "raw",
   "id": "312f3697",
   "metadata": {},
   "source": [
    "нужен следующий алгоритм:\n",
    "    приходит запрос -> формируется словарь, поля проходят валидацию и меняются на нужное значение -> поиск по базе\n",
    "    -> если нашли возвращаем имя шаблона, если нет возвращаем словарь"
   ]
  },
  {
   "cell_type": "code",
   "execution_count": 1,
   "id": "3baa84a2",
   "metadata": {},
   "outputs": [],
   "source": [
    "import json\n",
    "import re\n",
    "from tinydb import Query, TinyDB, where"
   ]
  },
  {
   "cell_type": "code",
   "execution_count": 2,
   "id": "3f6da43b",
   "metadata": {},
   "outputs": [],
   "source": [
    "User = Query()\n",
    "db = TinyDB('db.json')"
   ]
  },
  {
   "cell_type": "code",
   "execution_count": 9,
   "id": "bf7d2249",
   "metadata": {},
   "outputs": [],
   "source": [
    "def valid(query):\n",
    "    re_text = re.compile(r'\\w+\\s?\\w+')\n",
    "    re_email = re.compile(r'([A-Za-z0-9]+[.-_])*[A-Za-z0-9]+@[A-Za-z0-9-]+(\\.[A-Z|a-z]{2,})+')\n",
    "    re_phone = re.compile(r'\\+\\d*[\\s(-]{0,2}\\d*[\\s)-]{0,2}\\d*[\\s-]?\\d*[\\s-]?\\d*')\n",
    "    re_date = re.compile(r'\\d{1,4}\\W\\d{1,2}\\W\\d{1,4}')\n",
    "    for k, v in query.items():\n",
    "        if re.fullmatch(re_date, v):\n",
    "            query[k] = 'date'\n",
    "        elif re.fullmatch(re_phone, v):\n",
    "            query[k] = 'phone'\n",
    "        elif re.fullmatch(re_email, v):\n",
    "            query[k] = 'email'\n",
    "        elif re.fullmatch(re_text, v):\n",
    "            query[k] = 'text'\n",
    "        else:\n",
    "            print('Shit happens!')\n",
    "    return  query\n",
    "    \n",
    "\n",
    "def finder(in_dict, db_array):\n",
    "    for item in db_array:\n",
    "        if np.array_equal(np.sort(np.array(list(item))), np.sort(np.array(list(in_dict)))):\n",
    "            result = item['name']\n",
    "            break\n",
    "        else:\n",
    "            result = dict(zip(list(in_dict), valid(in_dict)[1]))\n",
    "    return result"
   ]
  },
  {
   "cell_type": "code",
   "execution_count": 20,
   "id": "642c6961",
   "metadata": {},
   "outputs": [
    {
     "data": {
      "text/plain": [
       "<re.Match object; span=(0, 10), match='12.05.1945'>"
      ]
     },
     "execution_count": 20,
     "metadata": {},
     "output_type": "execute_result"
    }
   ],
   "source": [
    "re.match(r'\\d{1,4}\\W\\d{1,2}\\W\\d{1,4}', query['user_date'])"
   ]
  },
  {
   "cell_type": "code",
   "execution_count": 19,
   "id": "8bd8f3fd",
   "metadata": {},
   "outputs": [
    {
     "data": {
      "text/plain": [
       "'12.05.1945'"
      ]
     },
     "execution_count": 19,
     "metadata": {},
     "output_type": "execute_result"
    }
   ],
   "source": [
    "query['user_date']"
   ]
  },
  {
   "cell_type": "code",
   "execution_count": null,
   "id": "7759b4a7",
   "metadata": {},
   "outputs": [],
   "source": [
    "db.all()"
   ]
  },
  {
   "cell_type": "code",
   "execution_count": 24,
   "id": "6d264819",
   "metadata": {},
   "outputs": [],
   "source": [
    "query = {'user_date': '12.05.1945', 'user_email': 'kl@bk.ru', 'user_name': 'Kola',\n",
    "         'user_phone': '+7915-245-35-12', 'user_id': 'print'}"
   ]
  },
  {
   "cell_type": "code",
   "execution_count": 25,
   "id": "a896e8fe",
   "metadata": {},
   "outputs": [],
   "source": [
    "get_query = valid(query)"
   ]
  },
  {
   "cell_type": "code",
   "execution_count": 26,
   "id": "ec08c542",
   "metadata": {},
   "outputs": [
    {
     "data": {
      "text/plain": [
       "{'user_date': 'date',\n",
       " 'user_email': 'email',\n",
       " 'user_name': 'text',\n",
       " 'user_phone': 'phone',\n",
       " 'user_id': 'text'}"
      ]
     },
     "execution_count": 26,
     "metadata": {},
     "output_type": "execute_result"
    }
   ],
   "source": [
    "get_query"
   ]
  },
  {
   "cell_type": "code",
   "execution_count": null,
   "id": "e5f51058",
   "metadata": {},
   "outputs": [],
   "source": [
    "query_keys = list(query)"
   ]
  },
  {
   "cell_type": "code",
   "execution_count": null,
   "id": "e4cb6f0f",
   "metadata": {},
   "outputs": [],
   "source": [
    "for i in db:\n",
    "    print(i)"
   ]
  },
  {
   "cell_type": "code",
   "execution_count": 34,
   "id": "dce9b9b0",
   "metadata": {},
   "outputs": [
    {
     "data": {
      "text/plain": [
       "[{'name': 'test form',\n",
       "  'user_name': 'text',\n",
       "  'user_birth': 'date',\n",
       "  'user_email': 'email'},\n",
       " {'name': 'template_1',\n",
       "  'user_name': 'text',\n",
       "  'user_mobile': 'phone',\n",
       "  'user_email': 'email'},\n",
       " {'name': 'Validation',\n",
       "  'user_name': 'text',\n",
       "  'user_email': 'email',\n",
       "  'user_phone': 'phone',\n",
       "  'user_date': 'date'}]"
      ]
     },
     "execution_count": 34,
     "metadata": {},
     "output_type": "execute_result"
    }
   ],
   "source": [
    "db.search(User.user_name.exists())"
   ]
  },
  {
   "cell_type": "code",
   "execution_count": 36,
   "id": "75ffe24f",
   "metadata": {},
   "outputs": [
    {
     "data": {
      "text/plain": [
       "[{'name': 'Validation',\n",
       "  'user_name': 'text',\n",
       "  'user_email': 'email',\n",
       "  'user_phone': 'phone',\n",
       "  'user_date': 'date'}]"
      ]
     },
     "execution_count": 36,
     "metadata": {},
     "output_type": "execute_result"
    }
   ],
   "source": [
    "db.search(Query().fragment({'user_date': 'date',\n",
    " 'user_email': 'email',\n",
    " 'user_name': 'text'}) | Query().fragment({'user_id': 'date',\n",
    " 'user_phone': 'phone',\n",
    " 'user_name': 'text'}))"
   ]
  },
  {
   "cell_type": "code",
   "execution_count": 32,
   "id": "00ea36c0",
   "metadata": {},
   "outputs": [
    {
     "data": {
      "text/plain": [
       "3"
      ]
     },
     "execution_count": 32,
     "metadata": {},
     "output_type": "execute_result"
    }
   ],
   "source": [
    "db.count(User.user_name == 'text')"
   ]
  },
  {
   "cell_type": "code",
   "execution_count": 33,
   "id": "9829973f",
   "metadata": {},
   "outputs": [
    {
     "data": {
      "text/plain": [
       "False"
      ]
     },
     "execution_count": 33,
     "metadata": {},
     "output_type": "execute_result"
    }
   ],
   "source": [
    "db.contains(User.user_namr == 'text')"
   ]
  },
  {
   "cell_type": "code",
   "execution_count": null,
   "id": "08aa2c29",
   "metadata": {},
   "outputs": [],
   "source": []
  }
 ],
 "metadata": {
  "kernelspec": {
   "display_name": "testtask_env",
   "language": "python",
   "name": "testtask_env"
  },
  "language_info": {
   "codemirror_mode": {
    "name": "ipython",
    "version": 3
   },
   "file_extension": ".py",
   "mimetype": "text/x-python",
   "name": "python",
   "nbconvert_exporter": "python",
   "pygments_lexer": "ipython3",
   "version": "3.11.5"
  }
 },
 "nbformat": 4,
 "nbformat_minor": 5
}
