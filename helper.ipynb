{
 "cells": [
  {
   "cell_type": "code",
   "execution_count": 1,
   "id": "69194021",
   "metadata": {},
   "outputs": [],
   "source": [
    "import json\n",
    "import re\n",
    "from validation import *"
   ]
  },
  {
   "cell_type": "code",
   "execution_count": 2,
   "id": "fb074808",
   "metadata": {},
   "outputs": [],
   "source": [
    "with open('db.json', 'r') as file:\n",
    "    bd = json.load(file)\n",
    "    bd = bd['_default']\n",
    "    file.close()"
   ]
  },
  {
   "cell_type": "code",
   "execution_count": 3,
   "id": "adde4d15",
   "metadata": {},
   "outputs": [],
   "source": [
    "with open('get_form.json', 'r') as file:\n",
    "    query_dict = json.load(file)\n",
    "    file.close()"
   ]
  },
  {
   "cell_type": "code",
   "execution_count": 4,
   "id": "eff791aa",
   "metadata": {},
   "outputs": [
    {
     "data": {
      "text/plain": [
       "{'name': 'Bobby', 'mobile': '+7-915-654-98-78'}"
      ]
     },
     "execution_count": 4,
     "metadata": {},
     "output_type": "execute_result"
    }
   ],
   "source": [
    "query_dict"
   ]
  },
  {
   "cell_type": "code",
   "execution_count": 5,
   "id": "883ab473",
   "metadata": {},
   "outputs": [
    {
     "name": "stdout",
     "output_type": "stream",
     "text": [
      "[{'user_name': 'text', 'user_birth': 'date', 'user_email': 'email'}, {'name': 'test form', 'user_name': 'text', 'user_birth': 'date', 'user_email': 'email'}, {'name': 'Form template name', 'field_name_1': 'email', 'field_name_2': 'phone', 'field_name_3': 'date'}, {'name': 'registration form', 'login': 'text', 'password': 'text', 'email': 'email'}, {'name': 'registration form', 'login': '', 'password': 'text', 'email': 'email'}, {'name': 'ewfewfe', 'qweqwweqwe': 'text'}, {'name': 'fin test!@#@!#', 'test1': 'phone', 'test2': 'text'}, {'name': '43r34r34r34r3', 'zzzzzzzzzzzzz': 'phone'}, {'name': ''}, {'name': ''}, {'name': ''}, {'name': 'enttest', 'name5': 'text', 'email5': 'email'}, {'name': ''}, {'name': ''}, {'name': 'template_1', 'user_name': 'text', 'user_mobile': 'phone', 'user_email': 'email'}, {'name': ''}, {'name': '', '': ''}, {'name': '', '': ''}, {'name': '', '': ''}, {'name': 'super_test', 'mobile_test': 'phone', 'user_mail': 'email'}, {'name': ''}, {'name': '123', 'qwerty': 'text', 'shmerty': 'phone'}, {'name': '12345', 'qwerty_125': 'text', 'shmerty_125': 'phone'}, {'name': '12345', 'qwerty_125': 'text', 'shmerty_125': 'phone'}, {'name': '12345', 'qwerty_125': 'text', 'shmerty_125': 'phone'}, {'name': '12345', 'qwerty_125': 'text', 'shmerty_125': 'phone'}, {'name': '1234567', 'qwerty_125000': 'text', 'shmerty_125000': 'phone'}, {'name': 'Validation', 'user_name': 'text', 'user_email': 'email', 'user_phone': 'phone', 'user_date': 'date'}, {'name': 'Validation', 'user_name': 'text', 'user_email': 'email', 'user_phone': 'phone', 'user_date': 'date'}, {'name': 'register', 'body_name': 'text', 'his_email': 'email', 'his_phone': 'phone', 'his_birth': 'date'}]\n"
     ]
    }
   ],
   "source": [
    "array = []\n",
    "for k, v in bd.items():\n",
    "    array.append(v)\n",
    "print(array)"
   ]
  },
  {
   "cell_type": "code",
   "execution_count": null,
   "id": "fb6107d9",
   "metadata": {},
   "outputs": [],
   "source": [
    "len(array)"
   ]
  },
  {
   "cell_type": "code",
   "execution_count": 9,
   "id": "75554882",
   "metadata": {},
   "outputs": [
    {
     "name": "stdout",
     "output_type": "stream",
     "text": [
      "['text', 'text', 'text']\n",
      "{'name': 'super_test', 'mobile_test': 'phone', 'user_mail': 'email'}\n"
     ]
    },
    {
     "data": {
      "text/plain": [
       "True"
      ]
     },
     "execution_count": 9,
     "metadata": {},
     "output_type": "execute_result"
    }
   ],
   "source": [
    "validfunc(array[19])"
   ]
  },
  {
   "cell_type": "code",
   "execution_count": 10,
   "id": "c42e8b40",
   "metadata": {},
   "outputs": [
    {
     "name": "stdout",
     "output_type": "stream",
     "text": [
      "name = super_test\n",
      "mobile_test = phone\n",
      "user_mail = email\n"
     ]
    }
   ],
   "source": [
    "for i in array:\n",
    "    if i == array[19]:\n",
    "        for k, v in i.items():\n",
    "            print(f\"{k} = {v}\")"
   ]
  },
  {
   "cell_type": "code",
   "execution_count": 8,
   "id": "2df111de",
   "metadata": {},
   "outputs": [
    {
     "data": {
      "text/plain": [
       "{'name': 'super_test', 'mobile_test': 'phone', 'user_mail': 'email'}"
      ]
     },
     "execution_count": 8,
     "metadata": {},
     "output_type": "execute_result"
    }
   ],
   "source": [
    "array[19]"
   ]
  },
  {
   "cell_type": "code",
   "execution_count": null,
   "id": "7b842b65",
   "metadata": {},
   "outputs": [],
   "source": [
    "re_text = re.compile(r'\\w+\\s?\\w+')\n",
    "re_email = re.compile(r'([A-Za-z0-9]+[.-_])*[A-Za-z0-9]+@[A-Za-z0-9-]+(\\.[A-Z|a-z]{2,})+')\n",
    "re_phone = re.compile(r'\\+\\d*[\\s(-]{0,2}\\d*[\\s)-]{0,2}\\d*[\\s-]?\\d*[\\s-]?\\d*')\n",
    "re_date = re.compile(r'\\d{1,4}\\W\\d{1,2}\\W\\d{1,4}')"
   ]
  },
  {
   "cell_type": "code",
   "execution_count": null,
   "id": "a39d23a5",
   "metadata": {},
   "outputs": [],
   "source": [
    "re.fullmatch(re_phone, query_dict['mobile'])"
   ]
  },
  {
   "cell_type": "code",
   "execution_count": null,
   "id": "c1eebdb0",
   "metadata": {},
   "outputs": [],
   "source": [
    "re.fullmatch(re_text, query['name'])"
   ]
  },
  {
   "cell_type": "code",
   "execution_count": null,
   "id": "1c62d2af",
   "metadata": {},
   "outputs": [],
   "source": [
    "re.fullmatch(re_email, query['his_email'])"
   ]
  },
  {
   "cell_type": "code",
   "execution_count": null,
   "id": "d1702897",
   "metadata": {},
   "outputs": [],
   "source": [
    "re.fullmatch(re_date, query['his_birth'])"
   ]
  },
  {
   "cell_type": "code",
   "execution_count": null,
   "id": "b00785be",
   "metadata": {},
   "outputs": [],
   "source": [
    "%who"
   ]
  },
  {
   "cell_type": "code",
   "execution_count": null,
   "id": "92008ca2",
   "metadata": {},
   "outputs": [],
   "source": [
    "def validation(query):\n",
    "    val_array = []\n",
    "    for k, v in query.items():\n",
    "        if re.fullmatch(re_phone, v):\n",
    "            val_array.append('phone')\n",
    "        elif re.fullmatch(re_text, v):\n",
    "            val_array.append('text')\n",
    "        elif re.fullmatch(re_email, v):\n",
    "            val_array.append('email')\n",
    "        elif re.fullmatch(re_date, v):\n",
    "            val_array.append('date')\n",
    "        else:\n",
    "            val_array.append('Shit happens!')\n",
    "    print(val_array)\n",
    "    print(query)\n",
    "    return len(val_array) == len(query) "
   ]
  },
  {
   "cell_type": "code",
   "execution_count": null,
   "id": "7455a291",
   "metadata": {},
   "outputs": [],
   "source": [
    "len(query_dict)"
   ]
  },
  {
   "cell_type": "code",
   "execution_count": null,
   "id": "992f5dd8",
   "metadata": {},
   "outputs": [],
   "source": [
    "validation(query_dict)"
   ]
  },
  {
   "cell_type": "code",
   "execution_count": null,
   "id": "6f817681",
   "metadata": {},
   "outputs": [],
   "source": [
    "for k, v in query.items():\n",
    "    "
   ]
  }
 ],
 "metadata": {
  "kernelspec": {
   "display_name": "Python 3 (ipykernel)",
   "language": "python",
   "name": "python3"
  },
  "language_info": {
   "codemirror_mode": {
    "name": "ipython",
    "version": 3
   },
   "file_extension": ".py",
   "mimetype": "text/x-python",
   "name": "python",
   "nbconvert_exporter": "python",
   "pygments_lexer": "ipython3",
   "version": "3.10.2"
  }
 },
 "nbformat": 4,
 "nbformat_minor": 5
}
