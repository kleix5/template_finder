{
 "cells": [
  {
   "cell_type": "code",
   "execution_count": 1,
   "id": "69194021",
   "metadata": {},
   "outputs": [],
   "source": [
    "import json\n",
    "import re"
   ]
  },
  {
   "cell_type": "code",
   "execution_count": 2,
   "id": "fb074808",
   "metadata": {},
   "outputs": [],
   "source": [
    "with open('db.json', 'r') as file:\n",
    "    bd = json.load(file)\n",
    "    bd = bd['_default']\n",
    "    file.close()"
   ]
  },
  {
   "cell_type": "code",
   "execution_count": 3,
   "id": "adde4d15",
   "metadata": {},
   "outputs": [],
   "source": [
    "with open('get_form.json', 'r') as file:\n",
    "    query = json.load(file)\n",
    "    file.close()"
   ]
  },
  {
   "cell_type": "code",
   "execution_count": 4,
   "id": "eff791aa",
   "metadata": {},
   "outputs": [
    {
     "data": {
      "text/plain": [
       "{'name': 'Bobby', 'mobile': '+7-915-654-98-78'}"
      ]
     },
     "execution_count": 4,
     "metadata": {},
     "output_type": "execute_result"
    }
   ],
   "source": [
    "query"
   ]
  },
  {
   "cell_type": "code",
   "execution_count": 5,
   "id": "883ab473",
   "metadata": {},
   "outputs": [
    {
     "name": "stdout",
     "output_type": "stream",
     "text": [
      "[{'user_name': 'text', 'user_birth': 'date', 'user_email': 'email'}, {'name': 'test form', 'user_name': 'text', 'user_birth': 'date', 'user_email': 'email'}, {'name': 'Form template name', 'field_name_1': 'email', 'field_name_2': 'phone', 'field_name_3': 'date'}, {'name': 'registration form', 'login': 'text', 'password': 'text', 'email': 'email'}, {'name': 'registration form', 'login': '', 'password': 'text', 'email': 'email'}, {'name': 'ewfewfe', 'qweqwweqwe': 'text'}, {'name': 'fin test!@#@!#', 'test1': 'phone', 'test2': 'text'}, {'name': '43r34r34r34r3', 'zzzzzzzzzzzzz': 'phone'}, {'name': ''}, {'name': ''}, {'name': ''}, {'name': 'enttest', 'name5': 'text', 'email5': 'email'}, {'name': ''}, {'name': ''}, {'name': 'template_1', 'user_name': 'text', 'user_mobile': 'phone', 'user_email': 'email'}, {'name': ''}, {'name': '', '': ''}, {'name': '', '': ''}, {'name': '', '': ''}, {'name': 'super_test', 'mobile_test': 'phone', 'user_mail': 'email'}, {'name': ''}, {'name': '123', 'qwerty': 'text', 'shmerty': 'phone'}, {'name': '12345', 'qwerty_125': 'text', 'shmerty_125': 'phone'}, {'name': '12345', 'qwerty_125': 'text', 'shmerty_125': 'phone'}, {'name': '12345', 'qwerty_125': 'text', 'shmerty_125': 'phone'}, {'name': '12345', 'qwerty_125': 'text', 'shmerty_125': 'phone'}, {'name': '1234567', 'qwerty_125000': 'text', 'shmerty_125000': 'phone'}, {'name': 'Validation', 'user_name': 'text', 'user_email': 'email', 'user_phone': 'phone', 'user_date': 'date'}, {'name': 'Validation', 'user_name': 'text', 'user_email': 'email', 'user_phone': 'phone', 'user_date': 'date'}, {'name': 'register', 'body_name': 'text', 'his_email': 'email', 'his_phone': 'phone', 'his_birth': 'date'}, {'name': 'register', 'body_name': 'text', 'his_email': 'email', 'his_phone': 'phone', 'his_birth': 'date'}, {'name': 'register', 'body_name': 'text', 'his_email': 'email', 'his_phone': 'phone', 'his_birth': 'date'}, {'name': 'register', 'body_name': 'text', 'his_email': 'email', 'his_phone': 'phone', 'his_birth': 'date'}]\n"
     ]
    }
   ],
   "source": [
    "array = []\n",
    "for k, v in bd.items():\n",
    "    array.append(v)\n",
    "print(array)"
   ]
  },
  {
   "cell_type": "code",
   "execution_count": 6,
   "id": "7b842b65",
   "metadata": {},
   "outputs": [],
   "source": [
    "re_text = re.compile(r'\\w+\\s?\\w+')\n",
    "re_email = re.compile(r'([A-Za-z0-9]+[.-_])*[A-Za-z0-9]+@[A-Za-z0-9-]+(\\.[A-Z|a-z]{2,})+')\n",
    "re_phone = re.compile(r'\\+\\d*[\\s(-]{0,2}\\d*[\\s)-]{0,2}\\d*[\\s-]?\\d*[\\s-]?\\d*')\n",
    "re_date = re.compile(r'\\d{1,4}\\W\\d{1,2}\\W\\d{1,4}')"
   ]
  },
  {
   "cell_type": "code",
   "execution_count": 12,
   "id": "a39d23a5",
   "metadata": {},
   "outputs": [
    {
     "data": {
      "text/plain": [
       "<re.Match object; span=(0, 16), match='+7-915-654-98-78'>"
      ]
     },
     "execution_count": 12,
     "metadata": {},
     "output_type": "execute_result"
    }
   ],
   "source": [
    "re.fullmatch(re_phone, query['mobile'])"
   ]
  },
  {
   "cell_type": "code",
   "execution_count": 11,
   "id": "c1eebdb0",
   "metadata": {},
   "outputs": [
    {
     "data": {
      "text/plain": [
       "<re.Match object; span=(0, 5), match='Bobby'>"
      ]
     },
     "execution_count": 11,
     "metadata": {},
     "output_type": "execute_result"
    }
   ],
   "source": [
    "re.fullmatch(re_text, query['name'])"
   ]
  },
  {
   "cell_type": "code",
   "execution_count": 9,
   "id": "1c62d2af",
   "metadata": {},
   "outputs": [
    {
     "ename": "KeyError",
     "evalue": "'his_email'",
     "output_type": "error",
     "traceback": [
      "\u001b[1;31m---------------------------------------------------------------------------\u001b[0m",
      "\u001b[1;31mKeyError\u001b[0m                                  Traceback (most recent call last)",
      "Cell \u001b[1;32mIn[9], line 1\u001b[0m\n\u001b[1;32m----> 1\u001b[0m re\u001b[38;5;241m.\u001b[39mfullmatch(re_email, \u001b[43mquery\u001b[49m\u001b[43m[\u001b[49m\u001b[38;5;124;43m'\u001b[39;49m\u001b[38;5;124;43mhis_email\u001b[39;49m\u001b[38;5;124;43m'\u001b[39;49m\u001b[43m]\u001b[49m)\n",
      "\u001b[1;31mKeyError\u001b[0m: 'his_email'"
     ]
    }
   ],
   "source": [
    "re.fullmatch(re_email, query['his_email'])"
   ]
  },
  {
   "cell_type": "code",
   "execution_count": 10,
   "id": "d1702897",
   "metadata": {},
   "outputs": [
    {
     "ename": "KeyError",
     "evalue": "'his_birth'",
     "output_type": "error",
     "traceback": [
      "\u001b[1;31m---------------------------------------------------------------------------\u001b[0m",
      "\u001b[1;31mKeyError\u001b[0m                                  Traceback (most recent call last)",
      "Cell \u001b[1;32mIn[10], line 1\u001b[0m\n\u001b[1;32m----> 1\u001b[0m re\u001b[38;5;241m.\u001b[39mfullmatch(re_date, \u001b[43mquery\u001b[49m\u001b[43m[\u001b[49m\u001b[38;5;124;43m'\u001b[39;49m\u001b[38;5;124;43mhis_birth\u001b[39;49m\u001b[38;5;124;43m'\u001b[39;49m\u001b[43m]\u001b[49m)\n",
      "\u001b[1;31mKeyError\u001b[0m: 'his_birth'"
     ]
    }
   ],
   "source": [
    "re.fullmatch(re_date, query['his_birth'])"
   ]
  },
  {
   "cell_type": "code",
   "execution_count": null,
   "id": "b00785be",
   "metadata": {},
   "outputs": [],
   "source": [
    "%who"
   ]
  },
  {
   "cell_type": "code",
   "execution_count": 13,
   "id": "92008ca2",
   "metadata": {},
   "outputs": [
    {
     "name": "stdout",
     "output_type": "stream",
     "text": [
      "text\n",
      "phone\n"
     ]
    }
   ],
   "source": [
    "for k, v in query.items():\n",
    "    if re.fullmatch(re_phone, v):\n",
    "        print('phone')\n",
    "    elif re.fullmatch(re_text, v):\n",
    "        print('text')\n",
    "    elif re.fullmatch(re_email, v):\n",
    "        print('email')\n",
    "    elif re.fullmatch(re_date, v):\n",
    "        print('date')\n",
    "    else:\n",
    "        print('Shit happens!')"
   ]
  },
  {
   "cell_type": "code",
   "execution_count": null,
   "id": "6f817681",
   "metadata": {},
   "outputs": [],
   "source": []
  }
 ],
 "metadata": {
  "kernelspec": {
   "display_name": "testtask_env",
   "language": "python",
   "name": "testtask_env"
  },
  "language_info": {
   "codemirror_mode": {
    "name": "ipython",
    "version": 3
   },
   "file_extension": ".py",
   "mimetype": "text/x-python",
   "name": "python",
   "nbconvert_exporter": "python",
   "pygments_lexer": "ipython3",
   "version": "3.11.5"
  }
 },
 "nbformat": 4,
 "nbformat_minor": 5
}
