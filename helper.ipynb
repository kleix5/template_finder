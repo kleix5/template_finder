{
 "cells": [
  {
   "cell_type": "raw",
   "id": "c85e6b83",
   "metadata": {},
   "source": [
    "Algorithm:\n",
    "    input --> processing --> validation F--> output\n",
    "                                      T--> search F--> field substitution --> output\n",
    "                                                T--> output\n",
    "                  "
   ]
  },
  {
   "cell_type": "code",
   "execution_count": 1,
   "id": "69194021",
   "metadata": {},
   "outputs": [],
   "source": [
    "import numpy as np\n",
    "import json\n",
    "import re\n",
    "from processtools import *"
   ]
  },
  {
   "cell_type": "code",
   "execution_count": 2,
   "id": "fb074808",
   "metadata": {},
   "outputs": [],
   "source": [
    "with open('db.json', 'r') as file:\n",
    "    bd = json.load(file)\n",
    "    bd = bd['_default']\n",
    "    file.close()"
   ]
  },
  {
   "cell_type": "code",
   "execution_count": 3,
   "id": "adde4d15",
   "metadata": {},
   "outputs": [],
   "source": [
    "with open('get_form.json', 'r') as file:\n",
    "    query_dict = json.load(file)\n",
    "    file.close()"
   ]
  },
  {
   "cell_type": "code",
   "execution_count": 4,
   "id": "eff791aa",
   "metadata": {},
   "outputs": [
    {
     "data": {
      "text/plain": [
       "{'user_name': 'Pablo',\n",
       " 'user_date': '15.12.2035',\n",
       " 'user_email': 'pablo@mit.us',\n",
       " 'user_phone': '+74351235689'}"
      ]
     },
     "execution_count": 4,
     "metadata": {},
     "output_type": "execute_result"
    }
   ],
   "source": [
    "query_dict"
   ]
  },
  {
   "cell_type": "code",
   "execution_count": 5,
   "id": "883ab473",
   "metadata": {},
   "outputs": [],
   "source": [
    "array = []\n",
    "for k, v in bd.items():\n",
    "    array.append(v)\n",
    "array = np.array(array)"
   ]
  },
  {
   "cell_type": "code",
   "execution_count": 6,
   "id": "cf930b17",
   "metadata": {},
   "outputs": [
    {
     "data": {
      "text/plain": [
       "(True, ['text', 'date', 'email', 'phone'])"
      ]
     },
     "execution_count": 6,
     "metadata": {},
     "output_type": "execute_result"
    }
   ],
   "source": [
    "valid(query_dict)"
   ]
  },
  {
   "cell_type": "code",
   "execution_count": 7,
   "id": "07974939",
   "metadata": {},
   "outputs": [],
   "source": [
    "validation = valid(query_dict)"
   ]
  },
  {
   "cell_type": "code",
   "execution_count": 8,
   "id": "166f3ccb",
   "metadata": {},
   "outputs": [
    {
     "name": "stdout",
     "output_type": "stream",
     "text": [
      "Go on!\n"
     ]
    }
   ],
   "source": [
    "if validation[0] == False:\n",
    "    print('Stop game!')\n",
    "else:\n",
    "    print('Go on!')"
   ]
  },
  {
   "cell_type": "code",
   "execution_count": 9,
   "id": "e89bb2e3",
   "metadata": {},
   "outputs": [],
   "source": [
    "query_dict['name'] = 'text'"
   ]
  },
  {
   "cell_type": "code",
   "execution_count": 10,
   "id": "4f6730ea",
   "metadata": {},
   "outputs": [
    {
     "data": {
      "text/plain": [
       "{'user_name': 'Pablo',\n",
       " 'user_date': '15.12.2035',\n",
       " 'user_email': 'pablo@mit.us',\n",
       " 'user_phone': '+74351235689',\n",
       " 'name': 'text'}"
      ]
     },
     "execution_count": 10,
     "metadata": {},
     "output_type": "execute_result"
    }
   ],
   "source": [
    "query_dict"
   ]
  },
  {
   "cell_type": "code",
   "execution_count": 11,
   "id": "567f41b2",
   "metadata": {},
   "outputs": [],
   "source": [
    "query_fields = np.array(valid(query_dict)[1])\n",
    "query_keys = np.array(list(query_dict))"
   ]
  },
  {
   "cell_type": "code",
   "execution_count": 12,
   "id": "6acaaf7a",
   "metadata": {},
   "outputs": [
    {
     "data": {
      "text/plain": [
       "array(['name', 'user_date', 'user_email', 'user_name', 'user_phone'],\n",
       "      dtype='<U10')"
      ]
     },
     "execution_count": 12,
     "metadata": {},
     "output_type": "execute_result"
    }
   ],
   "source": [
    "np.sort(np.array(list(query_dict)))"
   ]
  },
  {
   "cell_type": "code",
   "execution_count": null,
   "id": "47e2da69",
   "metadata": {},
   "outputs": [],
   "source": [
    "def finder(x):\n",
    "    for i in array:\n",
    "        if np.array_equal(np.sort(np.array(list(i))), np.sort(np.array(list(x)))):\n",
    "            result = i['name']\n",
    "            break\n",
    "        else:\n",
    "            result = dict(zip(list(x), valid(query_dict)[1]))\n",
    "    return result"
   ]
  },
  {
   "cell_type": "code",
   "execution_count": 15,
   "id": "65a92eab",
   "metadata": {},
   "outputs": [
    {
     "data": {
      "text/plain": [
       "'Validation'"
      ]
     },
     "execution_count": 15,
     "metadata": {},
     "output_type": "execute_result"
    }
   ],
   "source": [
    "finder(query_dict, array)"
   ]
  },
  {
   "cell_type": "code",
   "execution_count": null,
   "id": "fbc5e5ae",
   "metadata": {},
   "outputs": [],
   "source": [
    "query_dict"
   ]
  },
  {
   "cell_type": "code",
   "execution_count": 17,
   "id": "f487a19b",
   "metadata": {},
   "outputs": [
    {
     "data": {
      "text/plain": [
       "array([{'user_name': 'text', 'user_birth': 'date', 'user_email': 'email'},\n",
       "       {'name': 'test form', 'user_name': 'text', 'user_birth': 'date', 'user_email': 'email'},\n",
       "       {'name': 'Form template name', 'field_name_1': 'email', 'field_name_2': 'phone', 'field_name_3': 'date'},\n",
       "       {'name': 'registration form', 'login': 'text', 'password': 'text', 'email': 'email'},\n",
       "       {'name': 'registration form', 'login': '', 'password': 'text', 'email': 'email'},\n",
       "       {'name': 'ewfewfe', 'qweqwweqwe': 'text'},\n",
       "       {'name': 'fin test!@#@!#', 'test1': 'phone', 'test2': 'text'},\n",
       "       {'name': '43r34r34r34r3', 'zzzzzzzzzzzzz': 'phone'}, {'name': ''},\n",
       "       {'name': ''}, {'name': ''},\n",
       "       {'name': 'enttest', 'name5': 'text', 'email5': 'email'},\n",
       "       {'name': ''}, {'name': ''},\n",
       "       {'name': 'template_1', 'user_name': 'text', 'user_mobile': 'phone', 'user_email': 'email'},\n",
       "       {'name': ''}, {'name': '', '': ''}, {'name': '', '': ''},\n",
       "       {'name': '', '': ''},\n",
       "       {'name': 'super_test', 'mobile_test': 'phone', 'user_mail': 'email'},\n",
       "       {'name': ''},\n",
       "       {'name': '123', 'qwerty': 'text', 'shmerty': 'phone'},\n",
       "       {'name': '12345', 'qwerty_125': 'text', 'shmerty_125': 'phone'},\n",
       "       {'name': '12345', 'qwerty_125': 'text', 'shmerty_125': 'phone'},\n",
       "       {'name': '12345', 'qwerty_125': 'text', 'shmerty_125': 'phone'},\n",
       "       {'name': '12345', 'qwerty_125': 'text', 'shmerty_125': 'phone'},\n",
       "       {'name': '1234567', 'qwerty_125000': 'text', 'shmerty_125000': 'phone'},\n",
       "       {'name': 'Validation', 'user_name': 'text', 'user_email': 'email', 'user_phone': 'phone', 'user_date': 'date'},\n",
       "       {'name': 'Validation', 'user_name': 'text', 'user_email': 'email', 'user_phone': 'phone', 'user_date': 'date'},\n",
       "       {'name': 'register', 'body_name': 'text', 'his_email': 'email', 'his_phone': 'phone', 'his_birth': 'date'},\n",
       "       {'name': 'register', 'body_name': 'text', 'his_email': 'email', 'his_phone': 'phone', 'his_birth': 'date'},\n",
       "       {'name': 'register', 'body_name': 'text', 'his_email': 'email', 'his_phone': 'phone', 'his_birth': 'date'},\n",
       "       {'name': 'register', 'body_name': 'text', 'his_email': 'email', 'his_phone': 'phone', 'his_birth': 'date'}],\n",
       "      dtype=object)"
      ]
     },
     "execution_count": 17,
     "metadata": {},
     "output_type": "execute_result"
    }
   ],
   "source": [
    "array"
   ]
  },
  {
   "cell_type": "code",
   "execution_count": 25,
   "id": "1b1b3520",
   "metadata": {},
   "outputs": [
    {
     "ename": "TypeError",
     "evalue": "'bool' object is not subscriptable",
     "output_type": "error",
     "traceback": [
      "\u001b[1;31m---------------------------------------------------------------------------\u001b[0m",
      "\u001b[1;31mTypeError\u001b[0m                                 Traceback (most recent call last)",
      "Cell \u001b[1;32mIn[25], line 1\u001b[0m\n\u001b[1;32m----> 1\u001b[0m finder(array[\u001b[38;5;241m8\u001b[39m], array)\n",
      "File \u001b[1;32mC:\\py_projects\\testtask\\processtools.py:37\u001b[0m, in \u001b[0;36mfinder\u001b[1;34m(in_dict, bd_array)\u001b[0m\n\u001b[0;32m     35\u001b[0m         \u001b[38;5;28;01mbreak\u001b[39;00m\n\u001b[0;32m     36\u001b[0m     \u001b[38;5;28;01melse\u001b[39;00m:\n\u001b[1;32m---> 37\u001b[0m         result \u001b[38;5;241m=\u001b[39m \u001b[38;5;28mdict\u001b[39m(\u001b[38;5;28mzip\u001b[39m(\u001b[38;5;28mlist\u001b[39m(in_dict), valid(in_dict)[\u001b[38;5;241m1\u001b[39m]))\n\u001b[0;32m     38\u001b[0m \u001b[38;5;28;01mreturn\u001b[39;00m result\n",
      "\u001b[1;31mTypeError\u001b[0m: 'bool' object is not subscriptable"
     ]
    }
   ],
   "source": [
    "finder(array[8], array)"
   ]
  },
  {
   "cell_type": "code",
   "execution_count": 22,
   "id": "e243ae1d",
   "metadata": {},
   "outputs": [
    {
     "data": {
      "text/plain": [
       "(True, ['text', 'text', 'text', 'text'])"
      ]
     },
     "execution_count": 22,
     "metadata": {},
     "output_type": "execute_result"
    }
   ],
   "source": [
    "valid(array[3])"
   ]
  },
  {
   "cell_type": "code",
   "execution_count": null,
   "id": "ef3f2190",
   "metadata": {},
   "outputs": [],
   "source": [
    "%who"
   ]
  }
 ],
 "metadata": {
  "kernelspec": {
   "display_name": "Python 3 (ipykernel)",
   "language": "python",
   "name": "python3"
  },
  "language_info": {
   "codemirror_mode": {
    "name": "ipython",
    "version": 3
   },
   "file_extension": ".py",
   "mimetype": "text/x-python",
   "name": "python",
   "nbconvert_exporter": "python",
   "pygments_lexer": "ipython3",
   "version": "3.11.4"
  }
 },
 "nbformat": 4,
 "nbformat_minor": 5
}
