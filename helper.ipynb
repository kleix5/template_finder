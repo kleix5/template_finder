{
 "cells": [
  {
   "cell_type": "raw",
   "id": "c85e6b83",
   "metadata": {},
   "source": [
    "Algorithm:\n",
    "    input --> processing --> validation F--> output\n",
    "                                      T--> search F--> field substitution --> output\n",
    "                                                T--> output\n",
    "                  "
   ]
  },
  {
   "cell_type": "code",
   "execution_count": 1,
   "id": "69194021",
   "metadata": {},
   "outputs": [],
   "source": [
    "import json\n",
    "import re\n",
    "from validation import *"
   ]
  },
  {
   "cell_type": "code",
   "execution_count": 2,
   "id": "fb074808",
   "metadata": {},
   "outputs": [],
   "source": [
    "with open('db.json', 'r') as file:\n",
    "    bd = json.load(file)\n",
    "    bd = bd['_default']\n",
    "    file.close()"
   ]
  },
  {
   "cell_type": "code",
   "execution_count": 3,
   "id": "adde4d15",
   "metadata": {},
   "outputs": [],
   "source": [
    "with open('get_form.json', 'r') as file:\n",
    "    query_dict = json.load(file)\n",
    "    file.close()"
   ]
  },
  {
   "cell_type": "code",
   "execution_count": 4,
   "id": "eff791aa",
   "metadata": {},
   "outputs": [
    {
     "data": {
      "text/plain": [
       "{'name': 'Bobby', 'mobile': '+7-915-654-98-78'}"
      ]
     },
     "execution_count": 4,
     "metadata": {},
     "output_type": "execute_result"
    }
   ],
   "source": [
    "query_dict"
   ]
  },
  {
   "cell_type": "code",
   "execution_count": 5,
   "id": "883ab473",
   "metadata": {},
   "outputs": [
    {
     "name": "stdout",
     "output_type": "stream",
     "text": [
      "[{'user_name': 'text', 'user_birth': 'date', 'user_email': 'email'}, {'name': 'test form', 'user_name': 'text', 'user_birth': 'date', 'user_email': 'email'}, {'name': 'Form template name', 'field_name_1': 'email', 'field_name_2': 'phone', 'field_name_3': 'date'}, {'name': 'registration form', 'login': 'text', 'password': 'text', 'email': 'email'}, {'name': 'registration form', 'login': '', 'password': 'text', 'email': 'email'}, {'name': 'ewfewfe', 'qweqwweqwe': 'text'}, {'name': 'fin test!@#@!#', 'test1': 'phone', 'test2': 'text'}, {'name': '43r34r34r34r3', 'zzzzzzzzzzzzz': 'phone'}, {'name': ''}, {'name': ''}, {'name': ''}, {'name': 'enttest', 'name5': 'text', 'email5': 'email'}, {'name': ''}, {'name': ''}, {'name': 'template_1', 'user_name': 'text', 'user_mobile': 'phone', 'user_email': 'email'}, {'name': ''}, {'name': '', '': ''}, {'name': '', '': ''}, {'name': '', '': ''}, {'name': 'super_test', 'mobile_test': 'phone', 'user_mail': 'email'}, {'name': ''}, {'name': '123', 'qwerty': 'text', 'shmerty': 'phone'}, {'name': '12345', 'qwerty_125': 'text', 'shmerty_125': 'phone'}, {'name': '12345', 'qwerty_125': 'text', 'shmerty_125': 'phone'}, {'name': '12345', 'qwerty_125': 'text', 'shmerty_125': 'phone'}, {'name': '12345', 'qwerty_125': 'text', 'shmerty_125': 'phone'}, {'name': '1234567', 'qwerty_125000': 'text', 'shmerty_125000': 'phone'}, {'name': 'Validation', 'user_name': 'text', 'user_email': 'email', 'user_phone': 'phone', 'user_date': 'date'}, {'name': 'Validation', 'user_name': 'text', 'user_email': 'email', 'user_phone': 'phone', 'user_date': 'date'}, {'name': 'register', 'body_name': 'text', 'his_email': 'email', 'his_phone': 'phone', 'his_birth': 'date'}]\n"
     ]
    }
   ],
   "source": [
    "array = []\n",
    "for k, v in bd.items():\n",
    "    array.append(v)\n",
    "print(array)"
   ]
  },
  {
   "cell_type": "code",
   "execution_count": null,
   "id": "6a629b7e",
   "metadata": {},
   "outputs": [],
   "source": []
  },
  {
   "cell_type": "code",
   "execution_count": null,
   "id": "07974939",
   "metadata": {},
   "outputs": [],
   "source": [
    "v_result = valid(array[15])"
   ]
  },
  {
   "cell_type": "code",
   "execution_count": null,
   "id": "567f41b2",
   "metadata": {},
   "outputs": [],
   "source": [
    "valid(query_dict)[1]"
   ]
  },
  {
   "cell_type": "code",
   "execution_count": null,
   "id": "fa85c692",
   "metadata": {},
   "outputs": [],
   "source": [
    "query_fields = ['text', 'phone']"
   ]
  },
  {
   "cell_type": "code",
   "execution_count": null,
   "id": "2e1c1c57",
   "metadata": {},
   "outputs": [],
   "source": [
    "query_keys = list(query_dict)"
   ]
  },
  {
   "cell_type": "code",
   "execution_count": null,
   "id": "5b6df7f1",
   "metadata": {},
   "outputs": [],
   "source": [
    "dict(zip(query_keys, query_fields))"
   ]
  },
  {
   "cell_type": "code",
   "execution_count": 10,
   "id": "6a1233a3",
   "metadata": {},
   "outputs": [],
   "source": [
    "def output(query):\n",
    "    for i in array:\n",
    "        if list(i) == list(query):\n",
    "            answer = query\n",
    "            break\n",
    "        else:\n",
    "            continue        \n",
    "    answer = dict(zip(list(query), valid(query_dict)[1]))\n",
    "    return answer"
   ]
  },
  {
   "cell_type": "code",
   "execution_count": 12,
   "id": "b7b77566",
   "metadata": {},
   "outputs": [
    {
     "name": "stdout",
     "output_type": "stream",
     "text": [
      "['text', 'phone']\n",
      "{'name': 'Bobby', 'mobile': '+7-915-654-98-78'}\n"
     ]
    },
    {
     "data": {
      "text/plain": [
       "{'name': 'text', '': 'phone'}"
      ]
     },
     "execution_count": 12,
     "metadata": {},
     "output_type": "execute_result"
    }
   ],
   "source": [
    "output(array[18])"
   ]
  },
  {
   "cell_type": "code",
   "execution_count": null,
   "id": "a0e3f08f",
   "metadata": {},
   "outputs": [],
   "source": [
    "list(array[19]) == list(array[19])"
   ]
  },
  {
   "cell_type": "code",
   "execution_count": null,
   "id": "ef3f2190",
   "metadata": {},
   "outputs": [],
   "source": []
  },
  {
   "cell_type": "code",
   "execution_count": 9,
   "id": "b00785be",
   "metadata": {},
   "outputs": [
    {
     "name": "stdout",
     "output_type": "stream",
     "text": [
      "array\t bd\t file\t json\t k\t output\t query_dict\t re\t re_date\t \n",
      "re_email\t re_phone\t re_text\t v\t valid\t \n"
     ]
    }
   ],
   "source": [
    "%who"
   ]
  },
  {
   "cell_type": "code",
   "execution_count": null,
   "id": "b21e8cf9",
   "metadata": {},
   "outputs": [],
   "source": [
    "len(query_dict)"
   ]
  },
  {
   "cell_type": "code",
   "execution_count": null,
   "id": "6f817681",
   "metadata": {},
   "outputs": [],
   "source": [
    "for k, v in query.items():\n",
    "    "
   ]
  }
 ],
 "metadata": {
  "kernelspec": {
   "display_name": "Python 3 (ipykernel)",
   "language": "python",
   "name": "python3"
  },
  "language_info": {
   "codemirror_mode": {
    "name": "ipython",
    "version": 3
   },
   "file_extension": ".py",
   "mimetype": "text/x-python",
   "name": "python",
   "nbconvert_exporter": "python",
   "pygments_lexer": "ipython3",
   "version": "3.10.2"
  }
 },
 "nbformat": 4,
 "nbformat_minor": 5
}
