{
 "cells": [
  {
   "cell_type": "raw",
   "id": "c85e6b83",
   "metadata": {},
   "source": [
    "Algorithm:\n",
    "    input --> processing --> validation F--> output\n",
    "                                      T--> search F--> field substitution --> output\n",
    "                                                T--> output\n",
    "                  "
   ]
  },
  {
   "cell_type": "code",
   "execution_count": 2,
   "id": "69194021",
   "metadata": {},
   "outputs": [],
   "source": [
    "import numpy as np\n",
    "import json\n",
    "import re\n",
    "from processtools import *"
   ]
  },
  {
   "cell_type": "markdown",
   "id": "541a2ec1",
   "metadata": {},
   "source": [
    "Загружаем бд и запрос "
   ]
  },
  {
   "cell_type": "code",
   "execution_count": 3,
   "id": "fb074808",
   "metadata": {},
   "outputs": [],
   "source": [
    "with open('db.json', 'r') as file:\n",
    "    db = json.load(file)\n",
    "    db = db['_default']\n",
    "    file.close()"
   ]
  },
  {
   "cell_type": "code",
   "execution_count": 4,
   "id": "adde4d15",
   "metadata": {},
   "outputs": [
    {
     "name": "stdout",
     "output_type": "stream",
     "text": [
      "{'user_date': '12.05.1945', 'user_email': 'kl@bk.ru', 'user_name': 'Kola', 'user_phone': '+7915-245-35-12', 'user_id': 'print'}\n"
     ]
    }
   ],
   "source": [
    "with open('get_form.json', 'r') as file:\n",
    "    query_dict = json.load(file)\n",
    "    file.close()\n",
    "\n",
    "print(query_dict)"
   ]
  },
  {
   "cell_type": "code",
   "execution_count": 6,
   "id": "741d6df3",
   "metadata": {},
   "outputs": [],
   "source": [
    "test_dict = {'id': '12345', 'user_name': 'Petrov', 'birth': '12.12.1945', 'email': 'email@mail.ru', 'name': 'text'}"
   ]
  },
  {
   "cell_type": "markdown",
   "id": "bec1631a",
   "metadata": {},
   "source": [
    "Создаём np.array для удобства доступа шаблонов"
   ]
  },
  {
   "cell_type": "code",
   "execution_count": 7,
   "id": "883ab473",
   "metadata": {},
   "outputs": [],
   "source": [
    "array = []\n",
    "for k, v in db.items():\n",
    "    array.append(v)\n",
    "array = np.array(array)"
   ]
  },
  {
   "cell_type": "code",
   "execution_count": 8,
   "id": "166f3ccb",
   "metadata": {},
   "outputs": [
    {
     "name": "stdout",
     "output_type": "stream",
     "text": [
      "Go on!\n",
      "Validation result: (True, ['date', 'email', 'text', 'phone', 'text'])\n"
     ]
    }
   ],
   "source": [
    "validation = valid(query_dict)\n",
    "if validation[0] == False:\n",
    "    print('Stop game!')\n",
    "else:\n",
    "    print('Go on!')\n",
    "\n",
    "print(f'Validation result: {validation}')"
   ]
  },
  {
   "cell_type": "markdown",
   "id": "802a4d60",
   "metadata": {},
   "source": [
    "Проверяем наличие поля name, если отсутствует добавляем"
   ]
  },
  {
   "cell_type": "code",
   "execution_count": 9,
   "id": "e89bb2e3",
   "metadata": {},
   "outputs": [
    {
     "name": "stdout",
     "output_type": "stream",
     "text": [
      "field: 'name' has been added.\n",
      "{'user_date': '12.05.1945', 'user_email': 'kl@bk.ru', 'user_name': 'Kola', 'user_phone': '+7915-245-35-12', 'user_id': 'print', 'name': 'text'}\n"
     ]
    }
   ],
   "source": [
    "if 'name' in query_dict:\n",
    "    print('OK')\n",
    "else:\n",
    "    query_dict['name'] = 'text'\n",
    "    print('field: \\'name\\' has been added.')\n",
    "print(query_dict)"
   ]
  },
  {
   "cell_type": "code",
   "execution_count": 10,
   "id": "4840cffc",
   "metadata": {},
   "outputs": [],
   "source": [
    "def search(in_dict, db_array):\n",
    "    for item in range(len(db_array)):\n",
    "        if np.all(np.isin(np.array(list(db_array[item])), np.array(list(in_dict)))):\n",
    "#             np.array_equal(np.sort(np.array(list(item))), np.sort(np.array(list(in_dict)))):\n",
    "            result = db_array[item]['name']\n",
    "            break\n",
    "        else:\n",
    "            result = dict(zip(list(in_dict), valid(in_dict)[1]))\n",
    "    return result"
   ]
  },
  {
   "cell_type": "code",
   "execution_count": 18,
   "id": "eefcdb21",
   "metadata": {},
   "outputs": [
    {
     "name": "stdout",
     "output_type": "stream",
     "text": [
      "Validation\n"
     ]
    }
   ],
   "source": [
    "answer = search(query_dict, array)\n",
    "if type(answer) is dict:\n",
    "    del answer['name']\n",
    "print(answer)"
   ]
  },
  {
   "cell_type": "code",
   "execution_count": 13,
   "id": "1917d7ec",
   "metadata": {},
   "outputs": [
    {
     "data": {
      "text/plain": [
       "array([{'name': 'test form', 'user_name': 'text', 'user_birth': 'date', 'user_email': 'email'},\n",
       "       {'name': 'Form template name', 'field_email': 'email', 'field_phone': 'phone', 'field_date': 'date'},\n",
       "       {'name': 'registration form', 'login': 'phone', 'password': 'text', 'email': 'email'},\n",
       "       {'name': 'registration form 2.0', 'login': 'email', 'password': 'text', 'mobile': 'phone'},\n",
       "       {'name': 'verification', 'personal_login': 'email', 'password': 'text'},\n",
       "       {'name': 'template_1', 'user_name': 'text', 'user_mobile': 'phone', 'user_email': 'email'},\n",
       "       {'name': 'test_template', 'mobile_test': 'phone', 'user_mail': 'email', 'user_id': 'date'},\n",
       "       {'name': 'Validation', 'user_name': 'text', 'user_email': 'email', 'user_phone': 'phone', 'user_date': 'date'},\n",
       "       {'name': 'register', 'body_name': 'text', 'his_email': 'email', 'his_phone': 'phone', 'his_birth': 'date'}],\n",
       "      dtype=object)"
      ]
     },
     "execution_count": 13,
     "metadata": {},
     "output_type": "execute_result"
    }
   ],
   "source": [
    "array"
   ]
  },
  {
   "cell_type": "code",
   "execution_count": 14,
   "id": "a278f798",
   "metadata": {},
   "outputs": [
    {
     "name": "stdout",
     "output_type": "stream",
     "text": [
      "0\n",
      "1\n",
      "2\n",
      "3\n",
      "4\n",
      "5\n",
      "6\n",
      "7\n",
      "8\n"
     ]
    }
   ],
   "source": [
    "for i in range(len(array)):\n",
    "    print(i)\n",
    "    if np.all(np.isin(np.array(list(array[i])), np.array(list(test_dict)))):\n",
    "        print('good')"
   ]
  },
  {
   "cell_type": "code",
   "execution_count": 16,
   "id": "a0d2b17e",
   "metadata": {},
   "outputs": [
    {
     "data": {
      "text/plain": [
       "array([ True, False, False, False, False])"
      ]
     },
     "execution_count": 16,
     "metadata": {},
     "output_type": "execute_result"
    }
   ],
   "source": [
    "np.isin(np.array(list(array[i])), np.array(list(test_dict)))"
   ]
  },
  {
   "cell_type": "code",
   "execution_count": null,
   "id": "497a5fd0",
   "metadata": {},
   "outputs": [],
   "source": [
    "query_keys"
   ]
  },
  {
   "cell_type": "code",
   "execution_count": null,
   "id": "820be99e",
   "metadata": {},
   "outputs": [],
   "source": []
  },
  {
   "cell_type": "code",
   "execution_count": null,
   "id": "567f41b2",
   "metadata": {},
   "outputs": [],
   "source": [
    "query_fields = np.array(valid(query_dict)[1])\n",
    "query_keys = np.array(list(query_dict))"
   ]
  },
  {
   "cell_type": "code",
   "execution_count": null,
   "id": "6acaaf7a",
   "metadata": {},
   "outputs": [],
   "source": [
    "np.sort(np.array(list(query_dict)))"
   ]
  },
  {
   "cell_type": "code",
   "execution_count": null,
   "id": "3e60e7be",
   "metadata": {},
   "outputs": [],
   "source": []
  },
  {
   "cell_type": "code",
   "execution_count": null,
   "id": "9c0fdc80",
   "metadata": {},
   "outputs": [],
   "source": []
  },
  {
   "cell_type": "code",
   "execution_count": null,
   "id": "65a92eab",
   "metadata": {},
   "outputs": [],
   "source": []
  },
  {
   "cell_type": "code",
   "execution_count": null,
   "id": "fbc5e5ae",
   "metadata": {},
   "outputs": [],
   "source": [
    "valid(array[8])"
   ]
  },
  {
   "cell_type": "code",
   "execution_count": null,
   "id": "ef3f2190",
   "metadata": {},
   "outputs": [],
   "source": [
    "%who"
   ]
  },
  {
   "cell_type": "code",
   "execution_count": 35,
   "id": "0185d1c6",
   "metadata": {},
   "outputs": [
    {
     "name": "stdout",
     "output_type": "stream",
     "text": [
      "is email\n"
     ]
    }
   ],
   "source": [
    "result = re.findall(r\"(\\w+@[a-z]+\\.[a-z]{2,})|(\\+[\\d](\\s|-|)(\\(|)\\d{3}(\\)|)[0-9\\-]+$)|(\\d{2,4}(-|\\.)\\d{2}(-|\\.)\\d{2,4})|(.*)\", \"asd@asd.ru\")\n",
    "if result[0][0]:\n",
    "    print('is email')\n",
    "elif result[0][5]:\n",
    "    print('is date')\n",
    "else:\n",
    "    print('dont know')"
   ]
  },
  {
   "cell_type": "code",
   "execution_count": null,
   "id": "2382d93a",
   "metadata": {},
   "outputs": [],
   "source": []
  }
 ],
 "metadata": {
  "kernelspec": {
   "display_name": "Python 3 (ipykernel)",
   "language": "python",
   "name": "python3"
  },
  "language_info": {
   "codemirror_mode": {
    "name": "ipython",
    "version": 3
   },
   "file_extension": ".py",
   "mimetype": "text/x-python",
   "name": "python",
   "nbconvert_exporter": "python",
   "pygments_lexer": "ipython3",
   "version": "3.10.2"
  }
 },
 "nbformat": 4,
 "nbformat_minor": 5
}
